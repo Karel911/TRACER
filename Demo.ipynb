{
 "cells": [
  {
   "cell_type": "code",
   "execution_count": 1,
   "id": "55a11301-a23b-4634-afc3-846ba192abf4",
   "metadata": {},
   "outputs": [],
   "source": [
    "from api import *\n",
    "from config import DummyArgs\n",
    "from PIL import Image"
   ]
  },
  {
   "cell_type": "markdown",
   "id": "77c6f0db-f8a6-468a-b0f5-cce293935d06",
   "metadata": {},
   "source": [
    "### Run the command `!pip install -r requirements.txt`"
   ]
  },
  {
   "cell_type": "code",
   "execution_count": null,
   "id": "f391b09a-b552-480b-b8f3-cfb96ec307e3",
   "metadata": {},
   "outputs": [
    {
     "name": "stderr",
     "output_type": "stream",
     "text": [
      "Downloading: \"https://github.com/lukemelas/EfficientNet-PyTorch/releases/download/1.0/adv-efficientnet-b7-4652b6dd.pth\" to /home/shady/.cache/torch/hub/checkpoints/adv-efficientnet-b7-4652b6dd.pth\n"
     ]
    },
    {
     "data": {
      "application/vnd.jupyter.widget-view+json": {
       "model_id": "f211148d94e44854b3296990380e6250",
       "version_major": 2,
       "version_minor": 0
      },
      "text/plain": [
       "  0%|          | 0.00/255M [00:00<?, ?B/s]"
      ]
     },
     "metadata": {},
     "output_type": "display_data"
    },
    {
     "name": "stdout",
     "output_type": "stream",
     "text": [
      "Loaded pretrained weights for efficientnet-b7\n"
     ]
    },
    {
     "name": "stderr",
     "output_type": "stream",
     "text": [
      "Downloading: \"https://github.com/Karel911/TRACER/releases/download/v1.0/TRACER-Efficient-7.pth\" to /home/shady/.cache/torch/hub/checkpoints/TRACER-Efficient-7.pth\n"
     ]
    },
    {
     "data": {
      "application/vnd.jupyter.widget-view+json": {
       "model_id": "54849821ce424afb942083fd9222f718",
       "version_major": 2,
       "version_minor": 0
      },
      "text/plain": [
       "  0%|          | 0.00/255M [00:00<?, ?B/s]"
      ]
     },
     "metadata": {},
     "output_type": "display_data"
    }
   ],
   "source": [
    "args = DummyArgs(arch = 7) # load EfficientB-7 architecture. If not present, it'll download using URL\n",
    "\n",
    "inf_class = Inference(args)"
   ]
  },
  {
   "cell_type": "code",
   "execution_count": null,
   "id": "b3c234ff-23de-42db-8c15-c7a7d47bd3ec",
   "metadata": {},
   "outputs": [],
   "source": [
    "immage = \"https://media.istockphoto.com/photos/stylish-blue-headphones-on-multi-colored-duo-tone-background-lighting-picture-id1175355990?k=20&m=1175355990&s=612x612&w=0&h=LX5kcpZKWyJQA_Kh5Ub9EwDNpGtAimGr2AePNQJPYxE=\"\n",
    "image = \"https://images.unsplash.com/photo-1505740420928-5e560c06d30e?ixlib=rb-1.2.1&ixid=MnwxMjA3fDB8MHxzZWFyY2h8M3x8cHJvZHVjdHxlbnwwfHwwfHw%3D&w=1000&q=80\"\n"
   ]
  },
  {
   "cell_type": "code",
   "execution_count": null,
   "id": "7091db6f-253c-4b28-9037-fcbe5036f5de",
   "metadata": {},
   "outputs": [],
   "source": [
    "mask = inf_class.test(image) # You can pass any of the following: numpy array of RGB image, image URL, image, path or Pillow Image \n",
    "mask_image = Image.fromarray(x)\n",
    "\n",
    "mask_image"
   ]
  }
 ],
 "metadata": {
  "kernelspec": {
   "display_name": "Python 3 (ipykernel)",
   "language": "python",
   "name": "python3"
  },
  "language_info": {
   "codemirror_mode": {
    "name": "ipython",
    "version": 3
   },
   "file_extension": ".py",
   "mimetype": "text/x-python",
   "name": "python",
   "nbconvert_exporter": "python",
   "pygments_lexer": "ipython3",
   "version": "3.7.11"
  }
 },
 "nbformat": 4,
 "nbformat_minor": 5
}
